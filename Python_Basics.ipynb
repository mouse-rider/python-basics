{
 "cells": [
  {
   "cell_type": "markdown",
   "metadata": {
    "colab_type": "text",
    "id": "view-in-github"
   },
   "source": [
    "<a href=\"https://colab.research.google.com/github/deepanrajm/python_basics/blob/master/Python_Basics.ipynb\" target=\"_parent\"><img src=\"https://colab.research.google.com/assets/colab-badge.svg\" alt=\"Open In Colab\"/></a>"
   ]
  },
  {
   "cell_type": "markdown",
   "metadata": {
    "id": "mBgNudPIPwvk"
   },
   "source": [
    "# **Hello World in Python!**"
   ]
  },
  {
   "cell_type": "code",
   "execution_count": 1,
   "metadata": {
    "id": "WBzyGTIcPodV"
   },
   "outputs": [
    {
     "name": "stdout",
     "output_type": "stream",
     "text": [
      "Hello World how are you?\n"
     ]
    }
   ],
   "source": [
    "print(\"Hello World how are you?\")\n",
    "# This a is a comment"
   ]
  },
  {
   "cell_type": "markdown",
   "metadata": {
    "id": "ElXqPGUsQeW3"
   },
   "source": [
    "# **Datatype**"
   ]
  },
  {
   "cell_type": "code",
   "execution_count": 2,
   "metadata": {
    "id": "KHr3dSAlQaXk"
   },
   "outputs": [
    {
     "name": "stdout",
     "output_type": "stream",
     "text": [
      "12\n",
      "<class 'int'>\n"
     ]
    }
   ],
   "source": [
    "a = 12\n",
    "print(a)       \n",
    "print(type(a))"
   ]
  },
  {
   "cell_type": "code",
   "execution_count": null,
   "metadata": {
    "id": "3E-c8ymwQyuR"
   },
   "outputs": [],
   "source": [
    "b = 1.7\n",
    "print(b)       \n",
    "print(type(b))"
   ]
  },
  {
   "cell_type": "code",
   "execution_count": null,
   "metadata": {
    "id": "lLLgBaYNQ3Bp"
   },
   "outputs": [],
   "source": [
    "c = \"Python\"\n",
    "print(c)       \n",
    "print(type(c))"
   ]
  },
  {
   "cell_type": "code",
   "execution_count": null,
   "metadata": {
    "id": "c1HVwJj3Q6_c"
   },
   "outputs": [],
   "source": [
    "d = True\n",
    "print(d)\n",
    "print(type(d))"
   ]
  },
  {
   "cell_type": "code",
   "execution_count": null,
   "metadata": {
    "id": "pfASQU9UQ-UN"
   },
   "outputs": [],
   "source": [
    "a, b, c = 1, 2, 3\n",
    "a, b, c = 1, 3.5, \"hello\"\n",
    "print(type(a))\n",
    "print(type(b)) \n",
    "print(type(c))"
   ]
  },
  {
   "cell_type": "markdown",
   "metadata": {
    "id": "r_7fd7J2Rr9f"
   },
   "source": [
    "# **Math Operation**"
   ]
  },
  {
   "cell_type": "code",
   "execution_count": 5,
   "metadata": {
    "colab": {
     "base_uri": "https://localhost:8080/"
    },
    "id": "mpIoTifoRxVT",
    "outputId": "15056303-2353-4e30-9ee5-0708e88019c4"
   },
   "outputs": [
    {
     "name": "stdout",
     "output_type": "stream",
     "text": [
      "2016.94\n"
     ]
    }
   ],
   "source": [
    "a = 77\n",
    "b = a * 0.22\n",
    "b = b + 2000  \n",
    "print (b)"
   ]
  },
  {
   "cell_type": "code",
   "execution_count": 6,
   "metadata": {
    "colab": {
     "base_uri": "https://localhost:8080/"
    },
    "id": "HkEa20qivG4D",
    "outputId": "aa8940dd-1199-490b-c14b-4bc63650051b"
   },
   "outputs": [
    {
     "name": "stdout",
     "output_type": "stream",
     "text": [
      "2016\n"
     ]
    }
   ],
   "source": [
    "c = int(b)\n",
    "print (c)"
   ]
  },
  {
   "cell_type": "code",
   "execution_count": 7,
   "metadata": {
    "colab": {
     "base_uri": "https://localhost:8080/"
    },
    "id": "a6ndZM1Pvmuw",
    "outputId": "6d1e7b21-9993-4ad2-a552-674f22c23d9f"
   },
   "outputs": [
    {
     "name": "stdout",
     "output_type": "stream",
     "text": [
      "2017\n"
     ]
    }
   ],
   "source": [
    "c = int(round(b,0))\n",
    "print (c)"
   ]
  },
  {
   "cell_type": "code",
   "execution_count": 8,
   "metadata": {
    "id": "Tr61VpKgvFQq"
   },
   "outputs": [
    {
     "name": "stdout",
     "output_type": "stream",
     "text": [
      "16.94\n"
     ]
    }
   ],
   "source": [
    "a = 77\n",
    "b = a * 0.22\n",
    "print (b)"
   ]
  },
  {
   "cell_type": "markdown",
   "metadata": {
    "id": "6Ixx1km7v8fp"
   },
   "source": [
    "# Boolean"
   ]
  },
  {
   "cell_type": "code",
   "execution_count": null,
   "metadata": {
    "id": "scwoueSfR4fv"
   },
   "outputs": [],
   "source": [
    "x = True\n",
    "y = False\n",
    "print(x and y)  \n",
    "print(x or y)   \n",
    "print(not x)    \n",
    "print(x & y)"
   ]
  },
  {
   "cell_type": "markdown",
   "metadata": {
    "id": "gKOx2o6i0pgM"
   },
   "source": [
    "# Printing"
   ]
  },
  {
   "cell_type": "code",
   "execution_count": 9,
   "metadata": {
    "id": "5QjYDF4V0ukg"
   },
   "outputs": [],
   "source": [
    "message = \"Lets Learn AI\""
   ]
  },
  {
   "cell_type": "code",
   "execution_count": 10,
   "metadata": {
    "id": "kKtTXl4c01mn"
   },
   "outputs": [
    {
     "name": "stdout",
     "output_type": "stream",
     "text": [
      "Lets Learn AI\n"
     ]
    }
   ],
   "source": [
    "print (message)"
   ]
  },
  {
   "cell_type": "code",
   "execution_count": 11,
   "metadata": {
    "id": "Yeukscyy05bP"
   },
   "outputs": [
    {
     "name": "stdout",
     "output_type": "stream",
     "text": [
      "The Message is -  Lets Learn AI\n"
     ]
    }
   ],
   "source": [
    "print (\"The Message is - \",message )"
   ]
  },
  {
   "cell_type": "code",
   "execution_count": 12,
   "metadata": {
    "id": "GDSYwZi80-Q_"
   },
   "outputs": [
    {
     "name": "stdout",
     "output_type": "stream",
     "text": [
      "Lets Learn AICome on.Team"
     ]
    }
   ],
   "source": [
    "print (message,\".\",sep=\"Come on\", end=\"Team\")"
   ]
  },
  {
   "cell_type": "code",
   "execution_count": null,
   "metadata": {
    "id": "i34A5Xvr1cJQ"
   },
   "outputs": [],
   "source": [
    "print (\"a =\",\"5\",sep=\"00\",end=\".000\")"
   ]
  },
  {
   "cell_type": "code",
   "execution_count": null,
   "metadata": {
    "id": "Dt0GoNRd6dTE"
   },
   "outputs": [],
   "source": [
    "first = \"Artificial\"\n",
    "last = \"Intelligence\"\n",
    "\n",
    "print(\"You Know? {} {}, is the new trend!\".format(first,last))"
   ]
  },
  {
   "cell_type": "code",
   "execution_count": null,
   "metadata": {
    "id": "OnxsAeap9t0b"
   },
   "outputs": [],
   "source": [
    "print(\"%s%s\" % (first, last)) "
   ]
  },
  {
   "cell_type": "code",
   "execution_count": null,
   "metadata": {
    "id": "hJKlHhVu6mOV"
   },
   "outputs": [],
   "source": [
    "float = 2.154327\n",
    "print( \"{:.2f}\".format(float))"
   ]
  },
  {
   "cell_type": "code",
   "execution_count": null,
   "metadata": {
    "id": "SZNFjYGc9pfd"
   },
   "outputs": [],
   "source": [
    "print (\"%.2f\" % (float))"
   ]
  }
 ],
 "metadata": {
  "colab": {
   "collapsed_sections": [],
   "include_colab_link": true,
   "name": "Python_Basics.ipynb",
   "provenance": []
  },
  "kernelspec": {
   "display_name": "Python 3 (ipykernel)",
   "language": "python",
   "name": "python3"
  },
  "language_info": {
   "codemirror_mode": {
    "name": "ipython",
    "version": 3
   },
   "file_extension": ".py",
   "mimetype": "text/x-python",
   "name": "python",
   "nbconvert_exporter": "python",
   "pygments_lexer": "ipython3",
   "version": "3.9.12"
  }
 },
 "nbformat": 4,
 "nbformat_minor": 1
}
