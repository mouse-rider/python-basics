{
  "nbformat": 4,
  "nbformat_minor": 0,
  "metadata": {
    "colab": {
      "provenance": []
    },
    "kernelspec": {
      "name": "python3",
      "display_name": "Python 3"
    },
    "language_info": {
      "name": "python"
    }
  },
  "cells": [
    {
      "cell_type": "code",
      "source": [
        "#syntax error\n",
        "print(\"hello)"
      ],
      "metadata": {
        "colab": {
          "base_uri": "https://localhost:8080/",
          "height": 130
        },
        "id": "WQx_jnWP3dp_",
        "outputId": "7c4e1b73-6e1d-4658-94bb-f9ab145c5287"
      },
      "execution_count": 4,
      "outputs": [
        {
          "output_type": "error",
          "ename": "SyntaxError",
          "evalue": "ignored",
          "traceback": [
            "\u001b[0;36m  File \u001b[0;32m\"<ipython-input-4-a2e25d5d2350>\"\u001b[0;36m, line \u001b[0;32m2\u001b[0m\n\u001b[0;31m    print(\"hello)\u001b[0m\n\u001b[0m                 ^\u001b[0m\n\u001b[0;31mSyntaxError\u001b[0m\u001b[0;31m:\u001b[0m EOL while scanning string literal\n"
          ]
        }
      ]
    },
    {
      "cell_type": "code",
      "source": [
        "if True:\n",
        "print(\"hello\")"
      ],
      "metadata": {
        "colab": {
          "base_uri": "https://localhost:8080/",
          "height": 130
        },
        "id": "PQ9foiCC4Gr-",
        "outputId": "62852d57-516d-4964-e802-23b7e748ea88"
      },
      "execution_count": 3,
      "outputs": [
        {
          "output_type": "error",
          "ename": "IndentationError",
          "evalue": "ignored",
          "traceback": [
            "\u001b[0;36m  File \u001b[0;32m\"<ipython-input-3-b8e989af44e3>\"\u001b[0;36m, line \u001b[0;32m2\u001b[0m\n\u001b[0;31m    print(\"hello\")\u001b[0m\n\u001b[0m    ^\u001b[0m\n\u001b[0;31mIndentationError\u001b[0m\u001b[0;31m:\u001b[0m expected an indented block\n"
          ]
        }
      ]
    },
    {
      "cell_type": "code",
      "source": [
        "#naming error\n",
        "val*10"
      ],
      "metadata": {
        "colab": {
          "base_uri": "https://localhost:8080/",
          "height": 183
        },
        "id": "etrlI74n4PTx",
        "outputId": "d062c2f7-07ab-41bd-cee5-6377f6b63eb2"
      },
      "execution_count": 5,
      "outputs": [
        {
          "output_type": "error",
          "ename": "NameError",
          "evalue": "ignored",
          "traceback": [
            "\u001b[0;31m---------------------------------------------------------------------------\u001b[0m",
            "\u001b[0;31mNameError\u001b[0m                                 Traceback (most recent call last)",
            "\u001b[0;32m<ipython-input-5-1da02efa9754>\u001b[0m in \u001b[0;36m<module>\u001b[0;34m\u001b[0m\n\u001b[1;32m      1\u001b[0m \u001b[0;31m#naming error\u001b[0m\u001b[0;34m\u001b[0m\u001b[0;34m\u001b[0m\u001b[0;34m\u001b[0m\u001b[0m\n\u001b[0;32m----> 2\u001b[0;31m \u001b[0mval\u001b[0m\u001b[0;34m*\u001b[0m\u001b[0;36m10\u001b[0m\u001b[0;34m\u001b[0m\u001b[0;34m\u001b[0m\u001b[0m\n\u001b[0m",
            "\u001b[0;31mNameError\u001b[0m: name 'val' is not defined"
          ]
        }
      ]
    },
    {
      "cell_type": "code",
      "source": [
        "\"\"\" syntax \n",
        "try :\n",
        "  #statement --> if any exception will be throw means \n",
        "except:\n",
        "  #statement --> comes into expection block\"\"\""
      ],
      "metadata": {
        "id": "59auSHaq4ebi"
      },
      "execution_count": null,
      "outputs": []
    },
    {
      "cell_type": "code",
      "source": [
        "print(1/0)"
      ],
      "metadata": {
        "colab": {
          "base_uri": "https://localhost:8080/",
          "height": 165
        },
        "id": "wNznoc3V5ekt",
        "outputId": "9f0d4b7d-4dc5-4d9f-d272-ecf31ebf93e2"
      },
      "execution_count": 10,
      "outputs": [
        {
          "output_type": "error",
          "ename": "ZeroDivisionError",
          "evalue": "ignored",
          "traceback": [
            "\u001b[0;31m---------------------------------------------------------------------------\u001b[0m",
            "\u001b[0;31mZeroDivisionError\u001b[0m                         Traceback (most recent call last)",
            "\u001b[0;32m<ipython-input-10-2fc232d1511a>\u001b[0m in \u001b[0;36m<module>\u001b[0;34m\u001b[0m\n\u001b[0;32m----> 1\u001b[0;31m \u001b[0mprint\u001b[0m\u001b[0;34m(\u001b[0m\u001b[0;36m1\u001b[0m\u001b[0;34m/\u001b[0m\u001b[0;36m0\u001b[0m\u001b[0;34m)\u001b[0m\u001b[0;34m\u001b[0m\u001b[0;34m\u001b[0m\u001b[0m\n\u001b[0m",
            "\u001b[0;31mZeroDivisionError\u001b[0m: division by zero"
          ]
        }
      ]
    },
    {
      "cell_type": "code",
      "execution_count": 1,
      "metadata": {
        "colab": {
          "base_uri": "https://localhost:8080/"
        },
        "id": "-vb3TzVytIUk",
        "outputId": "8634869e-bed2-4334-fe5f-1d4238e8a9e2"
      },
      "outputs": [
        {
          "output_type": "stream",
          "name": "stdout",
          "text": [
            "0\n"
          ]
        }
      ],
      "source": [
        "try:\n",
        "  x=0\n",
        "  print(x)\n",
        "except:\n",
        "  print(\"something sent wrong!!!\")\n",
        "finally:\n",
        "  (\"finally, Im Iron Man\")"
      ]
    },
    {
      "cell_type": "code",
      "source": [
        "def div(a,b):\n",
        "  try:\n",
        "    print(a/b)\n",
        "  except:\n",
        "    print(\"something went wrong!\")"
      ],
      "metadata": {
        "id": "3IlxXBYc44qw"
      },
      "execution_count": 6,
      "outputs": []
    },
    {
      "cell_type": "code",
      "source": [
        "div(15,3)"
      ],
      "metadata": {
        "colab": {
          "base_uri": "https://localhost:8080/"
        },
        "id": "SubNlZAp5JXW",
        "outputId": "6cb6efd0-14a4-453b-e5f6-85ba7e9876ff"
      },
      "execution_count": 7,
      "outputs": [
        {
          "output_type": "stream",
          "name": "stdout",
          "text": [
            "5.0\n"
          ]
        }
      ]
    },
    {
      "cell_type": "code",
      "source": [
        "div(1,0)"
      ],
      "metadata": {
        "colab": {
          "base_uri": "https://localhost:8080/"
        },
        "id": "w2qzKj305PjE",
        "outputId": "868a1321-7269-4c7e-c5ec-e5e98f161e1d"
      },
      "execution_count": 9,
      "outputs": [
        {
          "output_type": "stream",
          "name": "stdout",
          "text": [
            "something went wrong!\n"
          ]
        }
      ]
    },
    {
      "cell_type": "markdown",
      "source": [
        "### **else in try except :**"
      ],
      "metadata": {
        "id": "e9BtxfhQtWFo"
      }
    },
    {
      "cell_type": "code",
      "source": [
        "def div(a,b):\n",
        "  try:\n",
        "    print(a/b)\n",
        "  except:\n",
        "    print(\"something went wrong!\")\n",
        "  else:\n",
        "    print(\"Division completed successfully\")"
      ],
      "metadata": {
        "id": "dOpR5ITW5ooO"
      },
      "execution_count": 12,
      "outputs": []
    },
    {
      "cell_type": "code",
      "source": [
        "div(10,5)"
      ],
      "metadata": {
        "colab": {
          "base_uri": "https://localhost:8080/"
        },
        "id": "WI-e5XIk6sLs",
        "outputId": "3db4c065-d936-4942-a924-56d49ec1ce59"
      },
      "execution_count": 13,
      "outputs": [
        {
          "output_type": "stream",
          "name": "stdout",
          "text": [
            "2.0\n",
            "Division completed successfully\n"
          ]
        }
      ]
    },
    {
      "cell_type": "code",
      "source": [
        "div(10,0)"
      ],
      "metadata": {
        "colab": {
          "base_uri": "https://localhost:8080/"
        },
        "id": "oN3v1IKi6vXb",
        "outputId": "b87da1fb-fde0-4a21-9143-d628b8ac63c5"
      },
      "execution_count": 14,
      "outputs": [
        {
          "output_type": "stream",
          "name": "stdout",
          "text": [
            "something went wrong!\n"
          ]
        }
      ]
    },
    {
      "cell_type": "markdown",
      "source": [
        "### **Handling many exceptions**"
      ],
      "metadata": {
        "id": "gdFF2LXm6cD0"
      }
    },
    {
      "cell_type": "code",
      "source": [
        "#eample\n",
        "#Naming error\n",
        "Z*1"
      ],
      "metadata": {
        "colab": {
          "base_uri": "https://localhost:8080/",
          "height": 200
        },
        "id": "TImac0d06YpM",
        "outputId": "43db1ea2-e9c6-4232-8680-578394c9c623"
      },
      "execution_count": 11,
      "outputs": [
        {
          "output_type": "error",
          "ename": "NameError",
          "evalue": "ignored",
          "traceback": [
            "\u001b[0;31m---------------------------------------------------------------------------\u001b[0m",
            "\u001b[0;31mNameError\u001b[0m                                 Traceback (most recent call last)",
            "\u001b[0;32m<ipython-input-11-e2e791394a02>\u001b[0m in \u001b[0;36m<module>\u001b[0;34m\u001b[0m\n\u001b[1;32m      1\u001b[0m \u001b[0;31m#eample\u001b[0m\u001b[0;34m\u001b[0m\u001b[0;34m\u001b[0m\u001b[0;34m\u001b[0m\u001b[0m\n\u001b[1;32m      2\u001b[0m \u001b[0;31m#Naming error\u001b[0m\u001b[0;34m\u001b[0m\u001b[0;34m\u001b[0m\u001b[0;34m\u001b[0m\u001b[0m\n\u001b[0;32m----> 3\u001b[0;31m \u001b[0mZ\u001b[0m\u001b[0;34m*\u001b[0m\u001b[0;36m1\u001b[0m\u001b[0;34m\u001b[0m\u001b[0;34m\u001b[0m\u001b[0m\n\u001b[0m",
            "\u001b[0;31mNameError\u001b[0m: name 'Z' is not defined"
          ]
        }
      ]
    },
    {
      "cell_type": "code",
      "source": [
        "#Type error\n",
        "10+\"hello\""
      ],
      "metadata": {
        "colab": {
          "base_uri": "https://localhost:8080/",
          "height": 183
        },
        "id": "2k7PyGhS6_uH",
        "outputId": "93c17ba6-6aa6-4832-c5c7-8fd9546681eb"
      },
      "execution_count": 15,
      "outputs": [
        {
          "output_type": "error",
          "ename": "TypeError",
          "evalue": "ignored",
          "traceback": [
            "\u001b[0;31m---------------------------------------------------------------------------\u001b[0m",
            "\u001b[0;31mTypeError\u001b[0m                                 Traceback (most recent call last)",
            "\u001b[0;32m<ipython-input-15-bc72d859422b>\u001b[0m in \u001b[0;36m<module>\u001b[0;34m\u001b[0m\n\u001b[1;32m      1\u001b[0m \u001b[0;31m#Type error\u001b[0m\u001b[0;34m\u001b[0m\u001b[0;34m\u001b[0m\u001b[0;34m\u001b[0m\u001b[0m\n\u001b[0;32m----> 2\u001b[0;31m \u001b[0;36m10\u001b[0m\u001b[0;34m+\u001b[0m\u001b[0;34m\"hello\"\u001b[0m\u001b[0;34m\u001b[0m\u001b[0;34m\u001b[0m\u001b[0m\n\u001b[0m",
            "\u001b[0;31mTypeError\u001b[0m: unsupported operand type(s) for +: 'int' and 'str'"
          ]
        }
      ]
    },
    {
      "cell_type": "code",
      "source": [
        "#value error\n",
        "int(\"hello\")"
      ],
      "metadata": {
        "colab": {
          "base_uri": "https://localhost:8080/",
          "height": 183
        },
        "id": "Z5j-kIQm7Fpn",
        "outputId": "ed5fdaef-d7ed-41d5-9cee-25af19be354f"
      },
      "execution_count": 16,
      "outputs": [
        {
          "output_type": "error",
          "ename": "ValueError",
          "evalue": "ignored",
          "traceback": [
            "\u001b[0;31m---------------------------------------------------------------------------\u001b[0m",
            "\u001b[0;31mValueError\u001b[0m                                Traceback (most recent call last)",
            "\u001b[0;32m<ipython-input-16-47bf70118235>\u001b[0m in \u001b[0;36m<module>\u001b[0;34m\u001b[0m\n\u001b[1;32m      1\u001b[0m \u001b[0;31m#value error\u001b[0m\u001b[0;34m\u001b[0m\u001b[0;34m\u001b[0m\u001b[0;34m\u001b[0m\u001b[0m\n\u001b[0;32m----> 2\u001b[0;31m \u001b[0mint\u001b[0m\u001b[0;34m(\u001b[0m\u001b[0;34m\"hello\"\u001b[0m\u001b[0;34m)\u001b[0m\u001b[0;34m\u001b[0m\u001b[0;34m\u001b[0m\u001b[0m\n\u001b[0m",
            "\u001b[0;31mValueError\u001b[0m: invalid literal for int() with base 10: 'hello'"
          ]
        }
      ]
    },
    {
      "cell_type": "code",
      "source": [
        "try :\n",
        "  z*1    #10/0, int(\"hello kishore\")\n",
        "except NameError as err:\n",
        "  print(\"name error : \",err)\n",
        "except TypeError as err:\n",
        "  print(\"Type error : \",err)\n",
        "except ValueError as err:\n",
        "  print(\"ValueError : \",err)\n",
        "except:\n",
        "  print(\"Something went wrong!\")\n"
      ],
      "metadata": {
        "colab": {
          "base_uri": "https://localhost:8080/"
        },
        "id": "SyElST7Y7VBk",
        "outputId": "a6c5d5dd-a848-4c6a-ee54-071815ee5f4f"
      },
      "execution_count": 17,
      "outputs": [
        {
          "output_type": "stream",
          "name": "stdout",
          "text": [
            "name error :  name 'z' is not defined\n"
          ]
        }
      ]
    },
    {
      "cell_type": "markdown",
      "source": [
        "### **Finally clause**"
      ],
      "metadata": {
        "id": "q5D1_Xd38EP6"
      }
    },
    {
      "cell_type": "code",
      "source": [
        "\"\"\"\n",
        "syntax : \n",
        "try :\n",
        "  #statement\n",
        "except :\n",
        "  #statement\n",
        "finally:\n",
        "  #statement"
      ],
      "metadata": {
        "id": "QxDwJWW58C9F"
      },
      "execution_count": null,
      "outputs": []
    },
    {
      "cell_type": "code",
      "source": [
        "#for example\n",
        "\n",
        "try :\n",
        "  x=10\n",
        "  print(x)\n",
        "except:\n",
        "  print(\"something sent wrong!\")\n",
        "finally:\n",
        "  print(\"Finally , Im Iron man\")\n"
      ],
      "metadata": {
        "colab": {
          "base_uri": "https://localhost:8080/"
        },
        "id": "Cdukbh9k8V9J",
        "outputId": "bf655c5e-18f1-4a5a-bbea-53e8668eba85"
      },
      "execution_count": 18,
      "outputs": [
        {
          "output_type": "stream",
          "name": "stdout",
          "text": [
            "10\n",
            "Finally , Im Iron man\n"
          ]
        }
      ]
    },
    {
      "cell_type": "code",
      "source": [
        "try :\n",
        "  print(z)\n",
        "except:\n",
        "  print(\"something sent wrong!\")\n",
        "finally:\n",
        "  print(\"finally, Im Iron Man\")"
      ],
      "metadata": {
        "colab": {
          "base_uri": "https://localhost:8080/"
        },
        "id": "zYx1yrGL868w",
        "outputId": "13e29be3-8e51-439e-c230-fcee44bead17"
      },
      "execution_count": 19,
      "outputs": [
        {
          "output_type": "stream",
          "name": "stdout",
          "text": [
            "something sent wrong!\n",
            "finally, Im Iron Man\n"
          ]
        }
      ]
    },
    {
      "cell_type": "markdown",
      "source": [
        "### *Usage of finally *"
      ],
      "metadata": {
        "id": "HHC9QpVL9Lx2"
      }
    },
    {
      "cell_type": "code",
      "source": [
        "try :\n",
        "  fp=open(\"File.txt\",\"w\")\n",
        "  fp.write(\"hello Im Kishore Kumar\")\n",
        "except:\n",
        "  print(\"something went wrong\")\n",
        "finally:\n",
        "  fp.close()\n",
        "  print(\"successfully close\")\n",
        "\n",
        "# Buffer --> always stored in ROM \n",
        "# So, Resource shortage varum obtained"
      ],
      "metadata": {
        "colab": {
          "base_uri": "https://localhost:8080/"
        },
        "id": "Dd3I6cKl9KCp",
        "outputId": "d951d22b-9061-4307-d058-bf79ef8bce8b"
      },
      "execution_count": 20,
      "outputs": [
        {
          "output_type": "stream",
          "name": "stdout",
          "text": [
            "successfully close\n"
          ]
        }
      ]
    },
    {
      "cell_type": "code",
      "source": [
        "# Exercice \n",
        "\n",
        "def fun(a,b):\n",
        "  try :\n",
        "    ans=a/b\n",
        "    print(ans)\n",
        "  except:\n",
        "    print(\"error occured\")\n",
        "  finally:\n",
        "    print(\"well done\")\n",
        "  "
      ],
      "metadata": {
        "id": "mF91vOHL-TBk"
      },
      "execution_count": null,
      "outputs": []
    },
    {
      "cell_type": "code",
      "source": [
        "fun(10,2)"
      ],
      "metadata": {
        "id": "taFvmjsH-rZW"
      },
      "execution_count": null,
      "outputs": []
    },
    {
      "cell_type": "code",
      "source": [
        "fun(10,0)"
      ],
      "metadata": {
        "id": "YUlZo2IY-uaz"
      },
      "execution_count": null,
      "outputs": []
    },
    {
      "cell_type": "markdown",
      "source": [
        "### **Raise and assertions**"
      ],
      "metadata": {
        "id": "DK2heQyx-6y4"
      }
    },
    {
      "cell_type": "code",
      "source": [
        "#Example For assert\n",
        "def age(value):\n",
        "  #assert value>0,\"pls give a correct age\"\n",
        "  print(value)\n",
        "kishore=int(input(\"enter unnoda age : \"))\n",
        "age(kishore)"
      ],
      "metadata": {
        "colab": {
          "base_uri": "https://localhost:8080/",
          "height": 339
        },
        "id": "7qVIS24r-5g3",
        "outputId": "bcc08fbf-010c-4e08-c06b-ac319f8836da"
      },
      "execution_count": 22,
      "outputs": [
        {
          "name": "stdout",
          "output_type": "stream",
          "text": [
            "enter unnoda age : -5\n"
          ]
        },
        {
          "output_type": "error",
          "ename": "AssertionError",
          "evalue": "ignored",
          "traceback": [
            "\u001b[0;31m---------------------------------------------------------------------------\u001b[0m",
            "\u001b[0;31mAssertionError\u001b[0m                            Traceback (most recent call last)",
            "\u001b[0;32m<ipython-input-22-e7bf3d1bac2d>\u001b[0m in \u001b[0;36m<module>\u001b[0;34m\u001b[0m\n\u001b[1;32m      4\u001b[0m   \u001b[0mprint\u001b[0m\u001b[0;34m(\u001b[0m\u001b[0mvalue\u001b[0m\u001b[0;34m)\u001b[0m\u001b[0;34m\u001b[0m\u001b[0;34m\u001b[0m\u001b[0m\n\u001b[1;32m      5\u001b[0m \u001b[0mkishore\u001b[0m\u001b[0;34m=\u001b[0m\u001b[0mint\u001b[0m\u001b[0;34m(\u001b[0m\u001b[0minput\u001b[0m\u001b[0;34m(\u001b[0m\u001b[0;34m\"enter unnoda age : \"\u001b[0m\u001b[0;34m)\u001b[0m\u001b[0;34m)\u001b[0m\u001b[0;34m\u001b[0m\u001b[0;34m\u001b[0m\u001b[0m\n\u001b[0;32m----> 6\u001b[0;31m \u001b[0mage\u001b[0m\u001b[0;34m(\u001b[0m\u001b[0mkishore\u001b[0m\u001b[0;34m)\u001b[0m\u001b[0;34m\u001b[0m\u001b[0;34m\u001b[0m\u001b[0m\n\u001b[0m",
            "\u001b[0;32m<ipython-input-22-e7bf3d1bac2d>\u001b[0m in \u001b[0;36mage\u001b[0;34m(value)\u001b[0m\n\u001b[1;32m      1\u001b[0m \u001b[0;31m#Example For assert\u001b[0m\u001b[0;34m\u001b[0m\u001b[0;34m\u001b[0m\u001b[0;34m\u001b[0m\u001b[0m\n\u001b[1;32m      2\u001b[0m \u001b[0;32mdef\u001b[0m \u001b[0mage\u001b[0m\u001b[0;34m(\u001b[0m\u001b[0mvalue\u001b[0m\u001b[0;34m)\u001b[0m\u001b[0;34m:\u001b[0m\u001b[0;34m\u001b[0m\u001b[0;34m\u001b[0m\u001b[0m\n\u001b[0;32m----> 3\u001b[0;31m   \u001b[0;32massert\u001b[0m \u001b[0mvalue\u001b[0m\u001b[0;34m>\u001b[0m\u001b[0;36m0\u001b[0m\u001b[0;34m,\u001b[0m\u001b[0;34m\"pls give a correct age\"\u001b[0m\u001b[0;34m\u001b[0m\u001b[0;34m\u001b[0m\u001b[0m\n\u001b[0m\u001b[1;32m      4\u001b[0m   \u001b[0mprint\u001b[0m\u001b[0;34m(\u001b[0m\u001b[0mvalue\u001b[0m\u001b[0;34m)\u001b[0m\u001b[0;34m\u001b[0m\u001b[0;34m\u001b[0m\u001b[0m\n\u001b[1;32m      5\u001b[0m \u001b[0mkishore\u001b[0m\u001b[0;34m=\u001b[0m\u001b[0mint\u001b[0m\u001b[0;34m(\u001b[0m\u001b[0minput\u001b[0m\u001b[0;34m(\u001b[0m\u001b[0;34m\"enter unnoda age : \"\u001b[0m\u001b[0;34m)\u001b[0m\u001b[0;34m)\u001b[0m\u001b[0;34m\u001b[0m\u001b[0;34m\u001b[0m\u001b[0m\n",
            "\u001b[0;31mAssertionError\u001b[0m: pls give a correct age"
          ]
        }
      ]
    },
    {
      "cell_type": "markdown",
      "source": [
        "### **Raise**"
      ],
      "metadata": {
        "id": "i_sP6mFyDkZ_"
      }
    },
    {
      "cell_type": "code",
      "source": [
        "try :\n",
        "  print(\"Raising exception\")\n",
        "  raise ZeroDivisionError\n",
        "  #raise AttributeError\n",
        "except ZeroDivisionError:\n",
        "  print(\"division by zero is being performed\")\n",
        "except AttributeError:\n",
        "  print(\"attribute error raised\")"
      ],
      "metadata": {
        "colab": {
          "base_uri": "https://localhost:8080/"
        },
        "id": "y1n8ZdE2BeDv",
        "outputId": "a9efb3f1-f660-4c79-b89b-2059e0b529a4"
      },
      "execution_count": 24,
      "outputs": [
        {
          "output_type": "stream",
          "name": "stdout",
          "text": [
            "Raising exception\n",
            "attribute error raised\n"
          ]
        }
      ]
    },
    {
      "cell_type": "markdown",
      "source": [
        "Thank You\n",
        "By \n",
        "Kihore Kumar S\n",
        "BE CSE\n",
        "Department Of CSE\n",
        "[selflearnwithus.com](https://selflearnwithus.com)\n",
        "![Self Learn-01.png](data:image/png;base64,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)"
      ],
      "metadata": {
        "id": "PUdxyMHwFFcE"
      }
    },
    {
      "cell_type": "markdown",
      "source": [],
      "metadata": {
        "id": "IkRpRPAEFdtq"
      }
    }
  ]
}