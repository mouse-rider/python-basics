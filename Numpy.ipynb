{
 "cells": [
  {
   "cell_type": "markdown",
   "metadata": {
    "id": "Ycr86dWCudj3"
   },
   "source": [
    "# **Numpy Basics**"
   ]
  },
  {
   "cell_type": "code",
   "execution_count": 2,
   "metadata": {
    "id": "nW_FZxrcukoh"
   },
   "outputs": [],
   "source": [
    "import numpy as np"
   ]
  },
  {
   "cell_type": "code",
   "execution_count": null,
   "metadata": {
    "id": "OCYiMs0Du1eD"
   },
   "outputs": [],
   "source": [
    "a = np.array([1,2,3])"
   ]
  },
  {
   "cell_type": "code",
   "execution_count": null,
   "metadata": {
    "id": "qekDoy0su4Ap"
   },
   "outputs": [],
   "source": [
    "print(a)\n",
    "print(a.shape)\n",
    "print(type(a))"
   ]
  },
  {
   "cell_type": "code",
   "execution_count": null,
   "metadata": {
    "id": "U-shNsFfvAED"
   },
   "outputs": [],
   "source": [
    "b = np.array([1.1,2.2,3.3])"
   ]
  },
  {
   "cell_type": "code",
   "execution_count": null,
   "metadata": {
    "id": "jItiKg5mvCa0"
   },
   "outputs": [],
   "source": [
    "print(b)       \n",
    "print(b.shape) \n",
    "print(type(b))"
   ]
  },
  {
   "cell_type": "code",
   "execution_count": null,
   "metadata": {
    "id": "1qLT4irJvFVu"
   },
   "outputs": [],
   "source": [
    "print(a[0])       \n",
    "print(b[2])       \n",
    "print(type(a[2])) \n",
    "print(type(b[1]))"
   ]
  },
  {
   "cell_type": "code",
   "execution_count": 3,
   "metadata": {
    "id": "lhzNSwJXvKF2"
   },
   "outputs": [],
   "source": [
    "c = np.array([[1,2],[3,4]])"
   ]
  },
  {
   "cell_type": "code",
   "execution_count": null,
   "metadata": {
    "id": "4jiCEtu7vNqD"
   },
   "outputs": [],
   "source": [
    "print(c)\n",
    "print(c.shape)"
   ]
  },
  {
   "cell_type": "markdown",
   "metadata": {
    "id": "dwKEHCSavSlZ"
   },
   "source": [
    "# **Ones and Zeros**"
   ]
  },
  {
   "cell_type": "code",
   "execution_count": null,
   "metadata": {
    "id": "7jscasnAvYNS"
   },
   "outputs": [],
   "source": [
    "d = np.ones((2,2))"
   ]
  },
  {
   "cell_type": "code",
   "execution_count": null,
   "metadata": {
    "id": "ltwgMyS4yQSX"
   },
   "outputs": [],
   "source": [
    "print(d)            \n",
    "print(d.shape)       \n",
    "print(type(d))       \n",
    "print(type(d[0][0]))"
   ]
  },
  {
   "cell_type": "code",
   "execution_count": null,
   "metadata": {
    "id": "nHWHo9GtyUur"
   },
   "outputs": [],
   "source": [
    "e = np.zeros((3,3))"
   ]
  },
  {
   "cell_type": "code",
   "execution_count": null,
   "metadata": {
    "id": "GeTGXptjyWgE"
   },
   "outputs": [],
   "source": [
    "print(e)             \n",
    "print(e.shape)       \n",
    "print(type(e))       \n",
    "print(type(e[0][0]))"
   ]
  },
  {
   "cell_type": "code",
   "execution_count": null,
   "metadata": {
    "id": "e0uZhS6CycWP"
   },
   "outputs": [],
   "source": [
    "f = np.random.random((2,2))"
   ]
  },
  {
   "cell_type": "code",
   "execution_count": null,
   "metadata": {
    "id": "4QJG_MdYyeNV"
   },
   "outputs": [],
   "source": [
    "print(f)        \n",
    "print(f.shape)"
   ]
  },
  {
   "cell_type": "markdown",
   "metadata": {
    "id": "Te8FeRT6yld3"
   },
   "source": [
    "# **Array Math**"
   ]
  },
  {
   "cell_type": "code",
   "execution_count": null,
   "metadata": {
    "id": "-nHRSbz9yo8N"
   },
   "outputs": [],
   "source": [
    "add = a + b\n",
    "print (\"addition\")\n",
    "print(add)\n",
    "print(np.add(a,b))"
   ]
  },
  {
   "cell_type": "code",
   "execution_count": null,
   "metadata": {
    "id": "dsWZXvDTys_1"
   },
   "outputs": [],
   "source": [
    "sub = a - b\n",
    "print (\"subtraction\")\n",
    "print(sub)               \n",
    "print(np.subtract(a,b)) "
   ]
  },
  {
   "cell_type": "code",
   "execution_count": null,
   "metadata": {
    "id": "pFUEV7a2yw0T"
   },
   "outputs": [],
   "source": [
    "mul = a * b\n",
    "print (\"multiplication\")\n",
    "print(mul)                \n",
    "print(np.multiply(a,b)) "
   ]
  },
  {
   "cell_type": "code",
   "execution_count": null,
   "metadata": {
    "id": "vE5j2sjEyy8B"
   },
   "outputs": [],
   "source": [
    "div = a / b\n",
    "print (\"division\")\n",
    "print(div) \n",
    "print(np.divide(a,b))   "
   ]
  },
  {
   "cell_type": "markdown",
   "metadata": {
    "id": "BzlvLyBky3-1"
   },
   "source": [
    "# **Array Concat**"
   ]
  },
  {
   "cell_type": "code",
   "execution_count": null,
   "metadata": {
    "id": "po9cIEk-y527"
   },
   "outputs": [],
   "source": [
    "v1 = np.array([1,2,3])\n",
    "v2 = np.array([4,5,6])"
   ]
  },
  {
   "cell_type": "code",
   "execution_count": null,
   "metadata": {
    "id": "u8yRMm7Ly8bn"
   },
   "outputs": [],
   "source": [
    "print(v1.shape)\n",
    "print(v2.shape)  "
   ]
  },
  {
   "cell_type": "code",
   "execution_count": null,
   "metadata": {
    "id": "ckvbeFYNzAJH"
   },
   "outputs": [],
   "source": [
    "concat = np.concatenate((v1, v2))  "
   ]
  },
  {
   "cell_type": "code",
   "execution_count": null,
   "metadata": {
    "id": "cD3rJnHXzCBu"
   },
   "outputs": [],
   "source": [
    "print(concat)      \n",
    "print(concat.shape) "
   ]
  },
  {
   "cell_type": "code",
   "execution_count": null,
   "metadata": {
    "id": "FTNd-JOlzExO"
   },
   "outputs": [],
   "source": [
    "v3 = np.array([[1,2,3],[4,5,6]])\n",
    "v4 = np.array([[40,40,40],[50,50,50]])"
   ]
  },
  {
   "cell_type": "code",
   "execution_count": null,
   "metadata": {
    "id": "bzPgJ1x4zGDK"
   },
   "outputs": [],
   "source": [
    "print(v3.shape)     \n",
    "print(v4.shape) "
   ]
  },
  {
   "cell_type": "code",
   "execution_count": null,
   "metadata": {
    "id": "lJUE3_cHzKXT"
   },
   "outputs": [],
   "source": [
    "concat_0 = np.concatenate((v3, v4), axis=0)\n",
    "concat_1 = np.concatenate((v3, v4), axis=1)\n"
   ]
  },
  {
   "cell_type": "code",
   "execution_count": null,
   "metadata": {
    "id": "Z7aIUMY9zP-f"
   },
   "outputs": [],
   "source": [
    "v_stack  = np.vstack((v3,v4))\n",
    "h_stack  = np.hstack((v3,v4))"
   ]
  },
  {
   "cell_type": "code",
   "execution_count": null,
   "metadata": {
    "id": "04GbKXVZy3qa"
   },
   "outputs": [],
   "source": [
    "print(concat_0) \n",
    "print(v_stack) \n",
    "print(concat_0.shape)"
   ]
  },
  {
   "cell_type": "code",
   "execution_count": null,
   "metadata": {
    "id": "9R4_oJIRuZVr"
   },
   "outputs": [],
   "source": [
    "print(concat_1)        \n",
    "print(h_stack)         \n",
    "print(concat_1.shape)"
   ]
  },
  {
   "cell_type": "markdown",
   "metadata": {
    "id": "qkkbqQkgzhEP"
   },
   "source": [
    "# **Array Reshape**"
   ]
  },
  {
   "cell_type": "code",
   "execution_count": null,
   "metadata": {
    "id": "A6XutZEPzjP1"
   },
   "outputs": [],
   "source": [
    "a = np.array([[1,1,1],[2,2,2]])"
   ]
  },
  {
   "cell_type": "code",
   "execution_count": null,
   "metadata": {
    "id": "76ns8Xr-zliJ"
   },
   "outputs": [],
   "source": [
    "print(a)\n",
    "print(a.shape)"
   ]
  },
  {
   "cell_type": "code",
   "execution_count": null,
   "metadata": {
    "id": "EMphg2aQzpl5"
   },
   "outputs": [],
   "source": [
    "b = np.reshape(a, 6)"
   ]
  },
  {
   "cell_type": "code",
   "execution_count": null,
   "metadata": {
    "id": "IePg0Z8tzxkq"
   },
   "outputs": [],
   "source": [
    "print(b)\n",
    "print(b.shape)"
   ]
  },
  {
   "cell_type": "code",
   "execution_count": null,
   "metadata": {
    "id": "uL7N0cBQz0ZM"
   },
   "outputs": [],
   "source": [
    "c = np.reshape(b, (3,2))"
   ]
  },
  {
   "cell_type": "code",
   "execution_count": null,
   "metadata": {
    "id": "PLJKJYSRz16Z"
   },
   "outputs": [],
   "source": [
    "print(c)              \n",
    "print(c.shape) "
   ]
  },
  {
   "cell_type": "code",
   "execution_count": null,
   "metadata": {
    "id": "LwsE4h_iz-mR"
   },
   "outputs": [],
   "source": [
    "c = np.array([[1,2,3],[4,5,6],[7,8,9]])"
   ]
  },
  {
   "cell_type": "code",
   "execution_count": null,
   "metadata": {
    "id": "ZlW2YGtV0Akf"
   },
   "outputs": [],
   "source": [
    "print(c)        \n",
    "print(c.shape) "
   ]
  },
  {
   "cell_type": "code",
   "execution_count": null,
   "metadata": {
    "id": "qyTN3oyZ0Deu"
   },
   "outputs": [],
   "source": [
    "d = np.ravel(c)\n",
    "e = c.flatten()"
   ]
  },
  {
   "cell_type": "code",
   "execution_count": null,
   "metadata": {
    "id": "dmF5DmoY0Gas"
   },
   "outputs": [],
   "source": [
    "print(d) \n",
    "print(e)    "
   ]
  },
  {
   "cell_type": "code",
   "execution_count": null,
   "metadata": {
    "id": "iv50Opb20OA9"
   },
   "outputs": [],
   "source": [
    "print(np.ravel(c, order='F'))  # Column Major\n",
    "print(np.ravel(c, order='C'))  # Row Major"
   ]
  },
  {
   "cell_type": "markdown",
   "metadata": {
    "id": "v2xE0Nfe0bkE"
   },
   "source": [
    "# **Expand Dimensions**"
   ]
  },
  {
   "cell_type": "code",
   "execution_count": 5,
   "metadata": {
    "id": "RvX6gO8J0dwE"
   },
   "outputs": [],
   "source": [
    "a = np.array([500,200,100])"
   ]
  },
  {
   "cell_type": "code",
   "execution_count": null,
   "metadata": {
    "id": "jpT977oT0h1h"
   },
   "outputs": [],
   "source": [
    "# insert a new axis along the row\n",
    "b = np.expand_dims(a, axis=0)  \n",
    "\n",
    "# insert a new axis along the column\n",
    "c = np.expand_dims(a, axis=1)\n",
    "\n",
    "print(b)            \n",
    "print(b.shape)     \n",
    "\n",
    "print(c)           \n",
    "print(c.shape) "
   ]
  },
  {
   "cell_type": "markdown",
   "metadata": {
    "id": "1y54WKIdI0jk"
   },
   "source": [
    "# Transpose"
   ]
  },
  {
   "cell_type": "code",
   "execution_count": null,
   "metadata": {
    "id": "MZgi5IpCIrlm"
   },
   "outputs": [],
   "source": [
    "x = np.array([[1, 2], [3, 4]])\n",
    "print (x)\n",
    "#getting the transpose\n",
    "print (x.T)"
   ]
  },
  {
   "cell_type": "markdown",
   "metadata": {
    "id": "koHPfefK0u2z"
   },
   "source": [
    "# **Unique**"
   ]
  },
  {
   "cell_type": "code",
   "execution_count": null,
   "metadata": {
    "id": "4Yd-1FiU0phr"
   },
   "outputs": [],
   "source": [
    "m = np.array([1,2,1,1,4])\n",
    "\n",
    "# get the unique elements and thier indexes\n",
    "n, indices = np.unique(m, return_index=True)\n",
    "\n",
    "print(n)        \n",
    "print(indices)"
   ]
  }
 ],
 "metadata": {
  "colab": {
   "collapsed_sections": [],
   "name": "Numpy.ipynb",
   "provenance": []
  },
  "kernelspec": {
   "display_name": "Python 3 (ipykernel)",
   "language": "python",
   "name": "python3"
  },
  "language_info": {
   "codemirror_mode": {
    "name": "ipython",
    "version": 3
   },
   "file_extension": ".py",
   "mimetype": "text/x-python",
   "name": "python",
   "nbconvert_exporter": "python",
   "pygments_lexer": "ipython3",
   "version": "3.9.12"
  }
 },
 "nbformat": 4,
 "nbformat_minor": 1
}
