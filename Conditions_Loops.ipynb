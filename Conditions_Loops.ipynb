{
 "cells": [
  {
   "cell_type": "markdown",
   "metadata": {
    "id": "cgYdMC57SEoV"
   },
   "source": [
    "# **Conditions**"
   ]
  },
  {
   "cell_type": "code",
   "execution_count": 2,
   "metadata": {},
   "outputs": [
    {
     "name": "stdout",
     "output_type": "stream",
     "text": [
      "\n",
      "Here is a list of the Python keywords.  Enter any keyword to get more help.\n",
      "\n",
      "False               break               for                 not\n",
      "None                class               from                or\n",
      "True                continue            global              pass\n",
      "__peg_parser__      def                 if                  raise\n",
      "and                 del                 import              return\n",
      "as                  elif                in                  try\n",
      "assert              else                is                  while\n",
      "async               except              lambda              with\n",
      "await               finally             nonlocal            yield\n",
      "\n"
     ]
    }
   ],
   "source": [
    "help(\"keywords\")"
   ]
  },
  {
   "cell_type": "code",
   "execution_count": null,
   "metadata": {
    "id": "Yv6nk1kyAxFL"
   },
   "outputs": [],
   "source": [
    "val = 5\n",
    "\n",
    "if val:\n",
    "     print (\"Expected Value\")\n",
    "else:\n",
    "     print (\"Unexpected Value\")"
   ]
  },
  {
   "cell_type": "code",
   "execution_count": null,
   "metadata": {
    "id": "B_j3Bj_dSRIZ"
   },
   "outputs": [],
   "source": [
    "Ticket_to_Mars = 5\n",
    "if (Ticket_to_Mars == 0):\n",
    "\tprint(\"Sadly No can Go to Mars\")\n",
    "elif (Ticket_to_Mars <= 2):\n",
    "  if (Ticket_to_Mars == 1):\n",
    "    print(\"Only you can got to Mars\")\n",
    "  else:\n",
    "    print (\"You and Your Partnet can go to Mars!\")\n",
    "else:\n",
    "    print(str(Ticket_to_Mars) + \" Members can go to Mars\")"
   ]
  },
  {
   "cell_type": "markdown",
   "metadata": {
    "id": "Nrp1Z4o5A2YK"
   },
   "source": [
    "# While Loop"
   ]
  },
  {
   "cell_type": "code",
   "execution_count": null,
   "metadata": {
    "id": "ypO4VBOPAulF"
   },
   "outputs": [],
   "source": [
    "count = 0\n",
    "while count < 5:\n",
    "   print (count, \" is  less than 5\")\n",
    "   count = count + 1\n",
    "else:\n",
    "   print (count, \" is not less than 5\")"
   ]
  },
  {
   "cell_type": "code",
   "execution_count": null,
   "metadata": {
    "id": "4CACqcmHSdKf"
   },
   "outputs": [],
   "source": [
    "c = 0\n",
    "while (c < 10): \n",
    "    print(c,end='')\n",
    "    c += 1"
   ]
  },
  {
   "cell_type": "markdown",
   "metadata": {
    "id": "9FdwM2MkBhLx"
   },
   "source": [
    "# Range"
   ]
  },
  {
   "cell_type": "code",
   "execution_count": null,
   "metadata": {
    "id": "QhQtbvxcBmXj"
   },
   "outputs": [],
   "source": [
    "a = list(range(10))\n",
    "a"
   ]
  },
  {
   "cell_type": "code",
   "execution_count": null,
   "metadata": {
    "id": "Ghw6HrrYBy71"
   },
   "outputs": [],
   "source": [
    "a = list(range (1,10))\n",
    "a"
   ]
  },
  {
   "cell_type": "code",
   "execution_count": null,
   "metadata": {
    "id": "UrAJ11H1B8Ej"
   },
   "outputs": [],
   "source": [
    "a = list(range (1,10,2))\n",
    "a"
   ]
  },
  {
   "cell_type": "markdown",
   "metadata": {
    "id": "ZLcRoBBfBJ6A"
   },
   "source": [
    "# For Loop"
   ]
  },
  {
   "cell_type": "code",
   "execution_count": null,
   "metadata": {
    "id": "EWz7Ava5ShEP"
   },
   "outputs": [],
   "source": [
    "numbers = [1, 2, 4]\n",
    "#for (i=0;i<len(numbers);i++)\n",
    "\n",
    "for x in numbers:\n",
    "    print(x)"
   ]
  },
  {
   "cell_type": "code",
   "execution_count": null,
   "metadata": {
    "id": "rSbvVM3KSktI"
   },
   "outputs": [],
   "source": [
    "x = 5\n",
    "for c in range(x):  # for (i=0,i<5,i++)\n",
    "    print(c)"
   ]
  },
  {
   "cell_type": "code",
   "execution_count": null,
   "metadata": {
    "id": "7mcD7TCxSn9N"
   },
   "outputs": [],
   "source": [
    "for c in range (0,10,2):  #for (i=1,i<10,i+2)\n",
    "\tprint (c)"
   ]
  },
  {
   "cell_type": "code",
   "execution_count": null,
   "metadata": {
    "id": "8de_MxqvSq5h"
   },
   "outputs": [],
   "source": [
    "for c in range (10,0,-2):\n",
    "\tprint (c)"
   ]
  },
  {
   "cell_type": "markdown",
   "metadata": {
    "id": "i_hxfF5KBd0r"
   },
   "source": [
    "# Random"
   ]
  },
  {
   "cell_type": "code",
   "execution_count": 16,
   "metadata": {
    "id": "l1jaag_hCByH"
   },
   "outputs": [],
   "source": [
    "import random"
   ]
  },
  {
   "cell_type": "code",
   "execution_count": null,
   "metadata": {
    "id": "3M38HlmQCD15"
   },
   "outputs": [],
   "source": [
    "random.randint(0, 5)"
   ]
  },
  {
   "cell_type": "code",
   "execution_count": null,
   "metadata": {
    "id": "0yysGUx_CFhg"
   },
   "outputs": [],
   "source": [
    "random.random() * 100"
   ]
  },
  {
   "cell_type": "code",
   "execution_count": null,
   "metadata": {
    "id": "soIsM_sHCLKI"
   },
   "outputs": [],
   "source": [
    "random.choice( ['red', 'black', 'green'] )"
   ]
  },
  {
   "cell_type": "code",
   "execution_count": null,
   "metadata": {
    "id": "7thKgxb9BfpT"
   },
   "outputs": [],
   "source": [
    "for i in range(3):\n",
    "    print (random.randrange(0, 101, 5))"
   ]
  },
  {
   "cell_type": "code",
   "execution_count": null,
   "metadata": {
    "id": "a_Yb1AOECSqy"
   },
   "outputs": [],
   "source": [
    "from random import shuffle\n",
    "x = [1,2,3,4,5,6,7,8,9]\n",
    "shuffle(x)\n",
    "x"
   ]
  }
 ],
 "metadata": {
  "colab": {
   "collapsed_sections": [],
   "name": "Conditions_Loops.ipynb",
   "provenance": []
  },
  "kernelspec": {
   "display_name": "Python 3 (ipykernel)",
   "language": "python",
   "name": "python3"
  },
  "language_info": {
   "codemirror_mode": {
    "name": "ipython",
    "version": 3
   },
   "file_extension": ".py",
   "mimetype": "text/x-python",
   "name": "python",
   "nbconvert_exporter": "python",
   "pygments_lexer": "ipython3",
   "version": "3.9.12"
  }
 },
 "nbformat": 4,
 "nbformat_minor": 1
}
