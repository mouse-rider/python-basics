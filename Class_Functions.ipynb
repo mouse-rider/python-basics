{
 "cells": [
  {
   "cell_type": "markdown",
   "metadata": {
    "id": "pQtyOHQ3a2p5"
   },
   "source": [
    "# **Function**"
   ]
  },
  {
   "cell_type": "code",
   "execution_count": null,
   "metadata": {
    "id": "PwuAmvyAa5RN"
   },
   "outputs": [],
   "source": [
    "def squared(x):\n",
    "    y = x*x\n",
    "    print (y)\n",
    "    return y"
   ]
  },
  {
   "cell_type": "code",
   "execution_count": null,
   "metadata": {
    "id": "Fq7If5fHa6qg"
   },
   "outputs": [],
   "source": [
    "res = squared(4)\n",
    "print (\"result is\", res )"
   ]
  },
  {
   "cell_type": "markdown",
   "metadata": {
    "id": "Ipk0JYPsFsDM"
   },
   "source": [
    "# Class"
   ]
  },
  {
   "cell_type": "code",
   "execution_count": 1,
   "metadata": {
    "id": "1XLKPdB4FtZ2"
   },
   "outputs": [],
   "source": [
    "class AI:\n",
    "    pass"
   ]
  },
  {
   "cell_type": "code",
   "execution_count": null,
   "metadata": {
    "id": "iWkt-7TuF1sM"
   },
   "outputs": [],
   "source": [
    "class AI:\n",
    "     \n",
    "    # A simple class\n",
    "    # attribute\n",
    "    attr1 = \"ML\"\n",
    "    attr2 = \"DL\"\n",
    " \n",
    "    # A sample method \n",
    "    def fun(self):\n",
    "        print(\"We need\", self.attr1)\n",
    "        print(\"We need\", self.attr2)\n",
    " \n",
    "# Driver code\n",
    "# Object instantiation\n",
    "me = AI()\n",
    " \n",
    "# Accessing class attributes\n",
    "# and method through objects\n",
    "print(me.attr1)\n",
    "me.fun()"
   ]
  },
  {
   "cell_type": "code",
   "execution_count": null,
   "metadata": {
    "id": "5OgdYzAWGRRj"
   },
   "outputs": [],
   "source": [
    "# A Sample class with init method\n",
    "class Person:\n",
    "   \n",
    "    # init method or constructor \n",
    "    def __init__(self, name):\n",
    "        self.name = name\n",
    "        self.profession = \"Data\"\n",
    "   \n",
    "    # Sample Method \n",
    "    def say_hi(self):\n",
    "        print('Hello, my name is', self.name)\n",
    "        print('He plays', self.profession, \"for living\")\n",
    "   \n",
    "p = Person('Deepan')\n",
    "p.say_hi()"
   ]
  },
  {
   "cell_type": "markdown",
   "metadata": {
    "id": "wAz497akagUz"
   },
   "source": [
    "# **Exception Handling**"
   ]
  },
  {
   "cell_type": "code",
   "execution_count": null,
   "metadata": {
    "id": "LC_jYmA8ap6f"
   },
   "outputs": [],
   "source": [
    "y =10\n",
    "try:\n",
    "    print (z)\n",
    "    x = y/0\n",
    "except NameError :\n",
    "    print (\"value error\")\n",
    "except Exception as e:\n",
    "    print(\"Something is wrong!\")\n",
    "    print (e)"
   ]
  },
  {
   "cell_type": "code",
   "execution_count": null,
   "metadata": {
    "id": "i0eokz3masIT"
   },
   "outputs": [],
   "source": [
    "try:\n",
    "    print(s)\n",
    "except: \n",
    "    print(\"Something is wrong!\")\n",
    "finally:\n",
    "    print(\"Finally always execute after try-except.\")"
   ]
  }
 ],
 "metadata": {
  "colab": {
   "collapsed_sections": [],
   "name": "Class_Functions.ipynb",
   "provenance": []
  },
  "kernelspec": {
   "display_name": "Python 3 (ipykernel)",
   "language": "python",
   "name": "python3"
  },
  "language_info": {
   "codemirror_mode": {
    "name": "ipython",
    "version": 3
   },
   "file_extension": ".py",
   "mimetype": "text/x-python",
   "name": "python",
   "nbconvert_exporter": "python",
   "pygments_lexer": "ipython3",
   "version": "3.9.12"
  }
 },
 "nbformat": 4,
 "nbformat_minor": 1
}
