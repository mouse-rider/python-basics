{
 "cells": [
  {
   "cell_type": "markdown",
   "metadata": {
    "id": "BuTeInlbVYw5"
   },
   "source": [
    "# **List**"
   ]
  },
  {
   "cell_type": "code",
   "execution_count": null,
   "metadata": {
    "id": "_H8A2_BlU-sA"
   },
   "outputs": [],
   "source": [
    "l = [1,2,3,4,5]\n",
    "\n",
    "print(len(l)) "
   ]
  },
  {
   "cell_type": "code",
   "execution_count": null,
   "metadata": {
    "id": "8QJ_EJHgV1XN"
   },
   "outputs": [],
   "source": [
    "print(l[0])        \n",
    "print(l[1]) "
   ]
  },
  {
   "cell_type": "code",
   "execution_count": null,
   "metadata": {
    "id": "9Y3fxTNMVff5"
   },
   "outputs": [],
   "source": [
    "print(l[len(l)-1]) \n",
    "print(l[-1])  "
   ]
  },
  {
   "cell_type": "code",
   "execution_count": null,
   "metadata": {
    "id": "k8p_rW55VqeR"
   },
   "outputs": [],
   "source": [
    "l.append(6)       \n",
    "print(l)          \n",
    "item = l.pop()    \n",
    "print(item)       \n",
    "l.append(\"string\")\n",
    "print(l) "
   ]
  },
  {
   "cell_type": "code",
   "execution_count": 7,
   "metadata": {
    "id": "6CvUbEusDZ8H"
   },
   "outputs": [],
   "source": [
    "l2=[88,55,66]"
   ]
  },
  {
   "cell_type": "code",
   "execution_count": null,
   "metadata": {
    "id": "kDahwCurDaZ0"
   },
   "outputs": [],
   "source": [
    "l.extend([55,74])\n",
    "l"
   ]
  },
  {
   "cell_type": "code",
   "execution_count": null,
   "metadata": {
    "id": "pexlYo2mV53s"
   },
   "outputs": [],
   "source": [
    "l = [10,20,30,40,50,60]\n",
    "\n",
    "print(l[1:2])     \n",
    "print(l[1:3])     \n",
    "print(l[0:])      \n",
    "print(l[0:-1])    \n",
    "print(l[:])\n",
    "print (l[3:5])  "
   ]
  },
  {
   "cell_type": "code",
   "execution_count": null,
   "metadata": {
    "id": "d2Q8nkCQWDht"
   },
   "outputs": [],
   "source": [
    "b = [1,5,7,2,4,9,11,12]\n",
    "b.sort()\n",
    "print(b) "
   ]
  },
  {
   "cell_type": "code",
   "execution_count": null,
   "metadata": {
    "id": "Pbh3ybBBWFWe"
   },
   "outputs": [],
   "source": [
    "b.sort(reverse=True)\n",
    "print(b)"
   ]
  },
  {
   "cell_type": "code",
   "execution_count": null,
   "metadata": {
    "colab": {
     "base_uri": "https://localhost:8080/"
    },
    "id": "66fZNCKxWIJe",
    "outputId": "0c82ebe7-491d-4beb-e714-a003187d6ffc"
   },
   "outputs": [
    {
     "name": "stdout",
     "output_type": "stream",
     "text": [
      "['abd', 'warner', 'sachin', 'dhoni']\n"
     ]
    }
   ],
   "source": [
    "a = [\"dhoni\", \"sachin\", \"warner\", \"abd\"]\n",
    "a.reverse()\n",
    "print(a)"
   ]
  },
  {
   "cell_type": "code",
   "execution_count": null,
   "metadata": {
    "id": "10JG8aZVWJ2g"
   },
   "outputs": [],
   "source": [
    "a = [66, 55, 44, 22, 11, 55, 22] \n",
    "print(a.count(0))"
   ]
  },
  {
   "cell_type": "code",
   "execution_count": null,
   "metadata": {
    "id": "P0_Jjn8kC7Pw"
   },
   "outputs": [],
   "source": [
    "11 in a"
   ]
  },
  {
   "cell_type": "code",
   "execution_count": 4,
   "metadata": {
    "id": "TLxQUkNiDJRy"
   },
   "outputs": [],
   "source": [
    "l1=[1,2,5,8,7,4,9,'a','z']"
   ]
  },
  {
   "cell_type": "code",
   "execution_count": null,
   "metadata": {
    "id": "Iy4Wwzm_DHmz"
   },
   "outputs": [],
   "source": [
    "for i in l1:\n",
    "     print (l1.index(i), i)"
   ]
  },
  {
   "cell_type": "code",
   "execution_count": null,
   "metadata": {
    "id": "qxjiddtYDKX9"
   },
   "outputs": [],
   "source": [
    "for i,value in enumerate (l1):\n",
    "     print (i, value)"
   ]
  },
  {
   "cell_type": "code",
   "execution_count": 11,
   "metadata": {
    "id": "49VOi6FODksV"
   },
   "outputs": [],
   "source": [
    "l1 = [1,2,3,4,5,6,7,8,9]"
   ]
  },
  {
   "cell_type": "code",
   "execution_count": null,
   "metadata": {
    "id": "HtSVmnUdDoN-"
   },
   "outputs": [],
   "source": [
    "min(l1)"
   ]
  },
  {
   "cell_type": "code",
   "execution_count": null,
   "metadata": {
    "id": "YwlyO9DFDtqI"
   },
   "outputs": [],
   "source": [
    "max(l1)"
   ]
  },
  {
   "cell_type": "code",
   "execution_count": null,
   "metadata": {
    "id": "k0MNUSC_DzxQ"
   },
   "outputs": [],
   "source": [
    "l1.insert(2,'q')\n",
    "l1"
   ]
  },
  {
   "cell_type": "code",
   "execution_count": null,
   "metadata": {
    "id": "6GxP3LE1D3Ui"
   },
   "outputs": [],
   "source": [
    "l1.remove(2)\n",
    "l1"
   ]
  },
  {
   "cell_type": "code",
   "execution_count": null,
   "metadata": {
    "id": "1JcqiKv1EEAv"
   },
   "outputs": [],
   "source": []
  },
  {
   "cell_type": "code",
   "execution_count": null,
   "metadata": {
    "id": "hJKypQnsEGwd"
   },
   "outputs": [],
   "source": [
    "b='Artificial Intelligence'\n",
    "c=b.split(' ') \n",
    "c"
   ]
  },
  {
   "cell_type": "code",
   "execution_count": 28,
   "metadata": {
    "colab": {
     "base_uri": "https://localhost:8080/",
     "height": 35
    },
    "id": "q2g8oedYET3j",
    "outputId": "90e7c89e-c1f1-47e7-80e7-50fb719af205"
   },
   "outputs": [
    {
     "data": {
      "application/vnd.google.colaboratory.intrinsic+json": {
       "type": "string"
      },
      "text/plain": [
       "'Artificial Intelligence'"
      ]
     },
     "execution_count": 28,
     "metadata": {},
     "output_type": "execute_result"
    }
   ],
   "source": [
    "' '.join(c) "
   ]
  },
  {
   "cell_type": "markdown",
   "metadata": {
    "id": "dgEqvF90Ya2R"
   },
   "source": [
    "# **Tuple**"
   ]
  },
  {
   "cell_type": "code",
   "execution_count": null,
   "metadata": {
    "id": "Ik0BKAD0YcxO"
   },
   "outputs": [],
   "source": [
    "t = (\"500\", \"200\")\n",
    "\n",
    "print(type(t))\n",
    "\n",
    "print(t[1]) "
   ]
  },
  {
   "cell_type": "code",
   "execution_count": null,
   "metadata": {
    "id": "Skx9XKhPYh9u"
   },
   "outputs": [],
   "source": [
    "print(len(t)) \n",
    "print(max(t))\n",
    "print(min(t))"
   ]
  },
  {
   "cell_type": "code",
   "execution_count": null,
   "metadata": {
    "id": "lrU0NFW2YoA-"
   },
   "outputs": [],
   "source": [
    "l = [400, 800, 1200]\n",
    "print (type(l))\n",
    "l_to_t = tuple(l)\n",
    "print(type(l_to_t))\n"
   ]
  },
  {
   "cell_type": "markdown",
   "metadata": {
    "id": "Fa9dyO_vZBnI"
   },
   "source": [
    "# **Dictionary**"
   ]
  },
  {
   "cell_type": "code",
   "execution_count": null,
   "metadata": {
    "id": "bZFraEweZA9g"
   },
   "outputs": [],
   "source": [
    "d = { \"1\" : \"Captain America\", \n",
    "      \"2\" : \"Ironman\", \n",
    "      \"3\" : \"Thor\"\n",
    "    }"
   ]
  },
  {
   "cell_type": "code",
   "execution_count": null,
   "metadata": {
    "id": "3FY5LHRwZJ9N"
   },
   "outputs": [],
   "source": [
    "print(type(d))    \n",
    "print(d[\"1\"])     "
   ]
  },
  {
   "cell_type": "code",
   "execution_count": null,
   "metadata": {
    "id": "rpk4UHSCZPgf"
   },
   "outputs": [],
   "source": [
    "for key in d:\n",
    "    print(key)  \n",
    "    print(d[key])"
   ]
  },
  {
   "cell_type": "code",
   "execution_count": null,
   "metadata": {
    "id": "Z3EbGJdGZTnN"
   },
   "outputs": [],
   "source": [
    "d[\"2\"] = \"Hulk\"\n",
    "for key, value in d.items():\n",
    "    print(key + \" - \" + value)"
   ]
  },
  {
   "cell_type": "code",
   "execution_count": null,
   "metadata": {
    "id": "wgPDloQMZYQ3"
   },
   "outputs": [],
   "source": [
    "d[\"4\"] = \"Thanos\"\n",
    "d[\"2\"] = \"KIT\"\n",
    "\n",
    "print (d.items())\n",
    "d.pop(\"4\")\n",
    "\n",
    "del d[\"2\"]"
   ]
  },
  {
   "cell_type": "markdown",
   "metadata": {
    "id": "djYEtWThEha9"
   },
   "source": [
    "# Set"
   ]
  },
  {
   "cell_type": "code",
   "execution_count": null,
   "metadata": {
    "id": "kYtP30uOEgDN"
   },
   "outputs": [],
   "source": [
    "s1=set()\n",
    "\n",
    "l1=[1,1,1,2,2,1,2,3,4,5]\n",
    "\n",
    "set(l1)"
   ]
  }
 ],
 "metadata": {
  "colab": {
   "collapsed_sections": [],
   "name": "Data_Structures.ipynb",
   "provenance": []
  },
  "kernelspec": {
   "display_name": "Python 3 (ipykernel)",
   "language": "python",
   "name": "python3"
  },
  "language_info": {
   "codemirror_mode": {
    "name": "ipython",
    "version": 3
   },
   "file_extension": ".py",
   "mimetype": "text/x-python",
   "name": "python",
   "nbconvert_exporter": "python",
   "pygments_lexer": "ipython3",
   "version": "3.9.12"
  }
 },
 "nbformat": 4,
 "nbformat_minor": 1
}
